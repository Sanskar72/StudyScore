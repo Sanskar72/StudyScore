{
  "nbformat": 4,
  "nbformat_minor": 0,
  "metadata": {
    "colab": {
      "name": "StudyScore.ipynb",
      "provenance": [],
      "collapsed_sections": []
    },
    "kernelspec": {
      "name": "python3",
      "display_name": "Python 3"
    },
    "language_info": {
      "name": "python"
    }
  },
  "cells": [
    {
      "cell_type": "code",
      "metadata": {
        "id": "qZftDuWsRU03"
      },
      "source": [
        "# Importing libraries\n",
        "import pandas as pd\n",
        "import numpy as np  \n",
        "import matplotlib.pyplot as plt  \n",
        "from sklearn.model_selection import train_test_split\n",
        "from sklearn.linear_model import LinearRegression \n",
        "from sklearn import metrics\n",
        "%matplotlib inline"
      ],
      "execution_count": 1,
      "outputs": []
    },
    {
      "cell_type": "code",
      "metadata": {
        "colab": {
          "base_uri": "https://localhost:8080/",
          "height": 374
        },
        "id": "kBlOn9KmRivI",
        "outputId": "409c5ae7-eb47-470a-8c0b-f296a2834a7e"
      },
      "source": [
        "# Reading data from link\n",
        "url = \"https://raw.githubusercontent.com/AdiPersonalWorks/Random/master/student_scores%20-%20student_scores.csv\"\n",
        "df = pd.read_csv(url)\n",
        "print(\"Data linked successfully\")\n",
        "\n",
        "df.head(10)"
      ],
      "execution_count": 2,
      "outputs": [
        {
          "output_type": "stream",
          "text": [
            "Data linked successfully\n"
          ],
          "name": "stdout"
        },
        {
          "output_type": "execute_result",
          "data": {
            "text/html": [
              "<div>\n",
              "<style scoped>\n",
              "    .dataframe tbody tr th:only-of-type {\n",
              "        vertical-align: middle;\n",
              "    }\n",
              "\n",
              "    .dataframe tbody tr th {\n",
              "        vertical-align: top;\n",
              "    }\n",
              "\n",
              "    .dataframe thead th {\n",
              "        text-align: right;\n",
              "    }\n",
              "</style>\n",
              "<table border=\"1\" class=\"dataframe\">\n",
              "  <thead>\n",
              "    <tr style=\"text-align: right;\">\n",
              "      <th></th>\n",
              "      <th>Hours</th>\n",
              "      <th>Scores</th>\n",
              "    </tr>\n",
              "  </thead>\n",
              "  <tbody>\n",
              "    <tr>\n",
              "      <th>0</th>\n",
              "      <td>2.5</td>\n",
              "      <td>21</td>\n",
              "    </tr>\n",
              "    <tr>\n",
              "      <th>1</th>\n",
              "      <td>5.1</td>\n",
              "      <td>47</td>\n",
              "    </tr>\n",
              "    <tr>\n",
              "      <th>2</th>\n",
              "      <td>3.2</td>\n",
              "      <td>27</td>\n",
              "    </tr>\n",
              "    <tr>\n",
              "      <th>3</th>\n",
              "      <td>8.5</td>\n",
              "      <td>75</td>\n",
              "    </tr>\n",
              "    <tr>\n",
              "      <th>4</th>\n",
              "      <td>3.5</td>\n",
              "      <td>30</td>\n",
              "    </tr>\n",
              "    <tr>\n",
              "      <th>5</th>\n",
              "      <td>1.5</td>\n",
              "      <td>20</td>\n",
              "    </tr>\n",
              "    <tr>\n",
              "      <th>6</th>\n",
              "      <td>9.2</td>\n",
              "      <td>88</td>\n",
              "    </tr>\n",
              "    <tr>\n",
              "      <th>7</th>\n",
              "      <td>5.5</td>\n",
              "      <td>60</td>\n",
              "    </tr>\n",
              "    <tr>\n",
              "      <th>8</th>\n",
              "      <td>8.3</td>\n",
              "      <td>81</td>\n",
              "    </tr>\n",
              "    <tr>\n",
              "      <th>9</th>\n",
              "      <td>2.7</td>\n",
              "      <td>25</td>\n",
              "    </tr>\n",
              "  </tbody>\n",
              "</table>\n",
              "</div>"
            ],
            "text/plain": [
              "   Hours  Scores\n",
              "0    2.5      21\n",
              "1    5.1      47\n",
              "2    3.2      27\n",
              "3    8.5      75\n",
              "4    3.5      30\n",
              "5    1.5      20\n",
              "6    9.2      88\n",
              "7    5.5      60\n",
              "8    8.3      81\n",
              "9    2.7      25"
            ]
          },
          "metadata": {
            "tags": []
          },
          "execution_count": 2
        }
      ]
    },
    {
      "cell_type": "code",
      "metadata": {
        "id": "BCsGps7JSJQr"
      },
      "source": [
        "#Adding column to add the efficiency of students\n",
        "square = df['Hours']*df['Hours']\n",
        "df['square'] = square\n",
        "hours = df['Hours']\n",
        "score = df['Scores']"
      ],
      "execution_count": 3,
      "outputs": []
    },
    {
      "cell_type": "code",
      "metadata": {
        "colab": {
          "base_uri": "https://localhost:8080/",
          "height": 405
        },
        "id": "Skc-n2g8UwsH",
        "outputId": "d37d3b30-8554-46db-cde6-ae6549a8755c"
      },
      "source": [
        "#Visualising the data\n",
        "plt.style.use('seaborn')\n",
        "\n",
        "plt.scatter(x = hours, y = score, c = square, cmap='Greens', edgecolor='black', linewidth=0.5, alpha=0.75)\n",
        "\n",
        "cbar = plt.colorbar()\n",
        "cbar.set_label('square')\n",
        "\n",
        "plt.title('Hours v Score')\n",
        "plt.xlabel('Hours')\n",
        "plt.ylabel('Score')\n",
        "\n",
        "plt.tight_layout()\n",
        "\n",
        "plt.show()"
      ],
      "execution_count": 4,
      "outputs": [
        {
          "output_type": "display_data",
          "data": {
            "image/png": "[encoded data removed]",
            "text/plain": [
              "<Figure size 576x396 with 2 Axes>"
            ]
          },
          "metadata": {
            "tags": []
          }
        }
      ]
    },
    {
      "cell_type": "code",
      "metadata": {
        "id": "1p_eHd6vXoeh"
      },
      "source": [
        "#Creating the features and the prediction\n",
        "X1 = df[['Hours','square']]\n",
        "y = df['Scores']"
      ],
      "execution_count": 5,
      "outputs": []
    },
    {
      "cell_type": "code",
      "metadata": {
        "id": "l24n0sVZX-gF"
      },
      "source": [
        "#Splitting the data into train and test\n",
        "X1_train, X1_test, y1_train, y1_test = train_test_split(X1, y, test_size=0.2, random_state=7)"
      ],
      "execution_count": 6,
      "outputs": []
    },
    {
      "cell_type": "code",
      "metadata": {
        "colab": {
          "base_uri": "https://localhost:8080/"
        },
        "id": "w3YTPy7tZAnE",
        "outputId": "bace3cf5-dc03-4be7-bf0c-aab63b28eea2"
      },
      "source": [
        "#Training the model using square of hours as an additional attribute\n",
        "reg = LinearRegression()  \n",
        "reg.fit(X1_train, y1_train) \n",
        "\n",
        "print(\"Model Ready\")"
      ],
      "execution_count": 7,
      "outputs": [
        {
          "output_type": "stream",
          "text": [
            "Model Ready\n"
          ],
          "name": "stdout"
        }
      ]
    },
    {
      "cell_type": "code",
      "metadata": {
        "colab": {
          "base_uri": "https://localhost:8080/"
        },
        "id": "wkD8we45Zcy0",
        "outputId": "52edee72-c194-4f03-d815-02bdabb04cde"
      },
      "source": [
        "#Measuring the accuracy\n",
        "y1_hat = reg.predict(X1_test)\n",
        "print(\"R2 Score: \",reg.score(X1,y))\n",
        "print('Mean Absolute Error:', metrics.mean_absolute_error(y1_test, y1_hat))"
      ],
      "execution_count": 8,
      "outputs": [
        {
          "output_type": "stream",
          "text": [
            "R2 Score:  0.9526744149949146\n",
            "Mean Absolute Error: 4.925779845774141\n"
          ],
          "name": "stdout"
        }
      ]
    },
    {
      "cell_type": "code",
      "metadata": {
        "id": "eep5qyJjaS-w"
      },
      "source": [
        "#Creating the features and the prediction\n",
        "X2 = df[['Hours']]"
      ],
      "execution_count": 9,
      "outputs": []
    },
    {
      "cell_type": "code",
      "metadata": {
        "id": "1hmsWkaAD4fq"
      },
      "source": [
        "#Splitting the data into train and test\n",
        "X2_train, X2_test, y2_train, y2_test = train_test_split(X2, y, test_size=0.2, random_state=11)"
      ],
      "execution_count": 10,
      "outputs": []
    },
    {
      "cell_type": "code",
      "metadata": {
        "colab": {
          "base_uri": "https://localhost:8080/"
        },
        "id": "1_7zrWvDD-17",
        "outputId": "2e058634-f485-44c0-a71b-b115a4175ff6"
      },
      "source": [
        "#Training the basic model\n",
        "reg2 = LinearRegression()  \n",
        "reg2.fit(X2_train, y2_train) \n",
        "\n",
        "print(\"Model Ready\")"
      ],
      "execution_count": 11,
      "outputs": [
        {
          "output_type": "stream",
          "text": [
            "Model Ready\n"
          ],
          "name": "stdout"
        }
      ]
    },
    {
      "cell_type": "code",
      "metadata": {
        "colab": {
          "base_uri": "https://localhost:8080/"
        },
        "id": "SY31r10sECpP",
        "outputId": "86bc80e5-a3d0-4890-e577-180cbb5983b6"
      },
      "source": [
        "#Measuring the accuracy\n",
        "y2_hat = reg2.predict(X2_test)\n",
        "print(\"R2 Score: \",reg2.score(X2,y))\n",
        "print('Mean Absolute Error:', metrics.mean_absolute_error(y2_test, y2_hat))"
      ],
      "execution_count": 12,
      "outputs": [
        {
          "output_type": "stream",
          "text": [
            "R2 Score:  0.9461438669480466\n",
            "Mean Absolute Error: 8.237073106534178\n"
          ],
          "name": "stdout"
        }
      ]
    }
  ]
}